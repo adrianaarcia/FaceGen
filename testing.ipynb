import numpy as np
import plotly.graph_objects as go

import urllib.request
req = urllib.request.Request('https://raw.githubusercontent.com/empet/Datasets/master/car.obj')
try:
    response=urllib.request.urlopen(req)
    obj_data = response.read().decode('utf-8') 
except urllib.error.URLError as e:
    print(e.reason)

def obj_data_to_mesh3d(odata):
    # odata is the string read from an obj file
    vertices = []
    faces = []
    lines = odata.splitlines()   
   
    for line in lines:
        slist = line.split()
        if slist:
            if slist[0] == 'v':
                vertex = np.array(slist[1:], dtype=float)
                vertices.append(vertex)
            elif slist[0] == 'f':
                face = []
                for k in range(1, len(slist)):
                    face.append([int(s) for s in slist[k].replace('//','/').split('/')])
                if len(face) > 3: # triangulate the n-polyonal face, n>3
                    faces.extend([[face[0][0]-1, face[k][0]-1, face[k+1][0]-1] for k in range(1, len(face)-1)])
                else:    
                    faces.append([face[j][0]-1 for j in range(len(face))])
            else: pass
    
    
    return np.array(vertices), np.array(faces) 

vertices, faces = obj_data_to_mesh3d(obj_data)
from plotly.offline import download_plotlyjs, init_notebook_mode,  iplot
init_notebook_mode(connected=True)

vertices.shape
vertices[:, 3:][0]#color codes for the vertex 0
x, y, z = vertices[:,:3].T
I, J, K = faces.T

mesh = go.Mesh3d(
            x=-x,
            y=-y,
            z=z,
            vertexcolor=vertices[:, 3:], #the color codes must be triplets of floats  in [0,1]!!                      
            i=I,
            j=J,
            k=K,
            name='',
            showscale=False)

mesh.update(lighting=dict(ambient= 0.18,
                          diffuse= 1,
                          fresnel=  .1,
                          specular= 1,
                          roughness= .1),
                         
            lightposition=dict(x=100,
                               y=200,
                               z=150))


layout = go.Layout(title='Mesh3d from a Wavefront obj file',
                   font=dict(size=14, color='black'),
                   width=900,
                   height=800,
                   scene=dict(xaxis=dict(visible=False),
                              yaxis=dict(visible=False),  
                              zaxis=dict(visible=False), 
                              aspectratio=dict(x=1.5,
                                               y=0.9,
                                               z=0.5
                                         ),
                              camera=dict(eye=dict(x=1., y=1., z=0.5)),
                        ), 
                  paper_bgcolor='rgb(235,235,235)',
                  margin=dict(t=175)) 

fig = go.Figure(data=[mesh], layout=layout)
iplot(fig)